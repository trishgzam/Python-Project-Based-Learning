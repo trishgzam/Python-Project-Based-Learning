{
 "cells": [
  {
   "cell_type": "markdown",
   "id": "bad7a551-32ee-4dce-b718-62c94d5e5011",
   "metadata": {},
   "source": [
    "# Data Salaries Analysis\n",
    "\n",
    "## Summary\n",
    "\n",
    "This project involves analyzing salary data for data-related roles. The analysis aims to provide insights into average salaries per year, difference between the average salary (in USD) of Data Scientists and Data Engineers, and the number of full-time employees who works 100% remotely."
   ]
  },
  {
   "cell_type": "markdown",
   "id": "2f5929b9-9d9a-457a-99ab-be05f27176f9",
   "metadata": {
    "collapsed": false,
    "jupyter": {
     "outputs_hidden": false
    }
   },
   "source": [
    "## 💾 The data\n",
    "\n",
    "The data comes from a survey hosted by an HR consultancy, available in `'salaries.csv'`.\n",
    "\n",
    "#### Each row represents a single employee's salary record for a given year:\n",
    "- **`work_year`** - The year the salary was paid.  \n",
    "- **`experience_level`** - Employee experience level:  \n",
    "  - **`EN`**: Entry-level / Junior  \n",
    "  - **`MI`**: Mid-level / Intermediate  \n",
    "  - **`SE`**: Senior / Expert  \n",
    "  - **`EX`**: Executive / Director  \n",
    "- **`employment_type`** - Employment type:  \n",
    "  - **`PT`**: Part-time  \n",
    "  - **`FT`**: Full-time  \n",
    "  - **`CT`**: Contract  \n",
    "  - **`FL`**: Freelance  \n",
    "- **`job_title`** - The job title during the year.  \n",
    "- **`salary`** - Gross salary paid (in local currency).  \n",
    "- **`salary_currency`** - Salary currency (ISO 4217 code).  \n",
    "- **`salary_in_usd`** - Salary converted to USD using average yearly FX rate.  \n",
    "- **`employee_residence`** - Employee's primary country of residence (ISO 3166 code).  \n",
    "- **`remote_ratio`** - Percentage of remote work:  \n",
    "  - **`0`**: No remote work (<20%)  \n",
    "  - **`50`**: Hybrid (50%)  \n",
    "  - **`100`**: Fully remote (>80%)  \n",
    "- **`company_location`** - Employer's main office location (ISO 3166 code).  \n",
    "- **`company_size`** - Company size:  \n",
    "  - **`S`**: Small (<50 employees)  \n",
    "  - **`M`**: Medium (50–250 employees)  \n",
    "  - **`L`**: Large (>250 employees)  "
   ]
  },
  {
   "cell_type": "code",
   "execution_count": 3,
   "id": "2b75957b-35e3-492e-b1ab-41780128ed18",
   "metadata": {
    "executionCancelledAt": null,
    "executionTime": 2156,
    "lastExecutedAt": 1742913904005,
    "lastExecutedByKernel": "e19978f9-d25e-4925-a6a4-a130878c5078",
    "lastScheduledRunId": null,
    "lastSuccessfullyExecutedCode": "import pandas as pd\nsalaries_df = pd.read_csv('salaries.csv')\nsalaries_df",
    "outputsMetadata": {
     "0": {
      "height": 550,
      "tableState": {
       "customFilter": {
        "const": {
         "type": "boolean",
         "valid": true,
         "value": true
        },
        "id": "5a283f65-a6f7-4a3b-8f61-577d3a05c887",
        "nodeType": "const"
       },
       "quickFilterText": ""
      },
      "type": "dataFrame"
     }
    }
   },
   "outputs": [
    {
     "data": {
      "text/html": [
       "<div>\n",
       "<style scoped>\n",
       "    .dataframe tbody tr th:only-of-type {\n",
       "        vertical-align: middle;\n",
       "    }\n",
       "\n",
       "    .dataframe tbody tr th {\n",
       "        vertical-align: top;\n",
       "    }\n",
       "\n",
       "    .dataframe thead th {\n",
       "        text-align: right;\n",
       "    }\n",
       "</style>\n",
       "<table border=\"1\" class=\"dataframe\">\n",
       "  <thead>\n",
       "    <tr style=\"text-align: right;\">\n",
       "      <th></th>\n",
       "      <th>work_year</th>\n",
       "      <th>experience_level</th>\n",
       "      <th>employment_type</th>\n",
       "      <th>job_title</th>\n",
       "      <th>salary</th>\n",
       "      <th>salary_currency</th>\n",
       "      <th>salary_in_usd</th>\n",
       "      <th>employee_residence</th>\n",
       "      <th>remote_ratio</th>\n",
       "      <th>company_location</th>\n",
       "      <th>company_size</th>\n",
       "    </tr>\n",
       "  </thead>\n",
       "  <tbody>\n",
       "    <tr>\n",
       "      <th>0</th>\n",
       "      <td>2024</td>\n",
       "      <td>MI</td>\n",
       "      <td>FT</td>\n",
       "      <td>Developer</td>\n",
       "      <td>168276</td>\n",
       "      <td>USD</td>\n",
       "      <td>168276</td>\n",
       "      <td>US</td>\n",
       "      <td>0</td>\n",
       "      <td>US</td>\n",
       "      <td>M</td>\n",
       "    </tr>\n",
       "    <tr>\n",
       "      <th>1</th>\n",
       "      <td>2024</td>\n",
       "      <td>MI</td>\n",
       "      <td>FT</td>\n",
       "      <td>Developer</td>\n",
       "      <td>112184</td>\n",
       "      <td>USD</td>\n",
       "      <td>112184</td>\n",
       "      <td>US</td>\n",
       "      <td>0</td>\n",
       "      <td>US</td>\n",
       "      <td>M</td>\n",
       "    </tr>\n",
       "    <tr>\n",
       "      <th>2</th>\n",
       "      <td>2024</td>\n",
       "      <td>EN</td>\n",
       "      <td>FT</td>\n",
       "      <td>Developer</td>\n",
       "      <td>180000</td>\n",
       "      <td>USD</td>\n",
       "      <td>180000</td>\n",
       "      <td>US</td>\n",
       "      <td>0</td>\n",
       "      <td>US</td>\n",
       "      <td>M</td>\n",
       "    </tr>\n",
       "    <tr>\n",
       "      <th>3</th>\n",
       "      <td>2024</td>\n",
       "      <td>EN</td>\n",
       "      <td>FT</td>\n",
       "      <td>Developer</td>\n",
       "      <td>133500</td>\n",
       "      <td>USD</td>\n",
       "      <td>133500</td>\n",
       "      <td>US</td>\n",
       "      <td>0</td>\n",
       "      <td>US</td>\n",
       "      <td>M</td>\n",
       "    </tr>\n",
       "    <tr>\n",
       "      <th>4</th>\n",
       "      <td>2024</td>\n",
       "      <td>EN</td>\n",
       "      <td>FT</td>\n",
       "      <td>Developer</td>\n",
       "      <td>122000</td>\n",
       "      <td>USD</td>\n",
       "      <td>122000</td>\n",
       "      <td>US</td>\n",
       "      <td>0</td>\n",
       "      <td>US</td>\n",
       "      <td>M</td>\n",
       "    </tr>\n",
       "    <tr>\n",
       "      <th>...</th>\n",
       "      <td>...</td>\n",
       "      <td>...</td>\n",
       "      <td>...</td>\n",
       "      <td>...</td>\n",
       "      <td>...</td>\n",
       "      <td>...</td>\n",
       "      <td>...</td>\n",
       "      <td>...</td>\n",
       "      <td>...</td>\n",
       "      <td>...</td>\n",
       "      <td>...</td>\n",
       "    </tr>\n",
       "    <tr>\n",
       "      <th>57189</th>\n",
       "      <td>2020</td>\n",
       "      <td>SE</td>\n",
       "      <td>FT</td>\n",
       "      <td>Data Scientist</td>\n",
       "      <td>412000</td>\n",
       "      <td>USD</td>\n",
       "      <td>412000</td>\n",
       "      <td>US</td>\n",
       "      <td>100</td>\n",
       "      <td>US</td>\n",
       "      <td>L</td>\n",
       "    </tr>\n",
       "    <tr>\n",
       "      <th>57190</th>\n",
       "      <td>2021</td>\n",
       "      <td>MI</td>\n",
       "      <td>FT</td>\n",
       "      <td>Principal Data Scientist</td>\n",
       "      <td>151000</td>\n",
       "      <td>USD</td>\n",
       "      <td>151000</td>\n",
       "      <td>US</td>\n",
       "      <td>100</td>\n",
       "      <td>US</td>\n",
       "      <td>L</td>\n",
       "    </tr>\n",
       "    <tr>\n",
       "      <th>57191</th>\n",
       "      <td>2020</td>\n",
       "      <td>EN</td>\n",
       "      <td>FT</td>\n",
       "      <td>Data Scientist</td>\n",
       "      <td>105000</td>\n",
       "      <td>USD</td>\n",
       "      <td>105000</td>\n",
       "      <td>US</td>\n",
       "      <td>100</td>\n",
       "      <td>US</td>\n",
       "      <td>S</td>\n",
       "    </tr>\n",
       "    <tr>\n",
       "      <th>57192</th>\n",
       "      <td>2020</td>\n",
       "      <td>EN</td>\n",
       "      <td>CT</td>\n",
       "      <td>Business Data Analyst</td>\n",
       "      <td>100000</td>\n",
       "      <td>USD</td>\n",
       "      <td>100000</td>\n",
       "      <td>US</td>\n",
       "      <td>100</td>\n",
       "      <td>US</td>\n",
       "      <td>L</td>\n",
       "    </tr>\n",
       "    <tr>\n",
       "      <th>57193</th>\n",
       "      <td>2021</td>\n",
       "      <td>SE</td>\n",
       "      <td>FT</td>\n",
       "      <td>Data Scientist</td>\n",
       "      <td>7000000</td>\n",
       "      <td>INR</td>\n",
       "      <td>94665</td>\n",
       "      <td>IN</td>\n",
       "      <td>50</td>\n",
       "      <td>IN</td>\n",
       "      <td>L</td>\n",
       "    </tr>\n",
       "  </tbody>\n",
       "</table>\n",
       "<p>57194 rows × 11 columns</p>\n",
       "</div>"
      ],
      "text/plain": [
       "       work_year experience_level employment_type                 job_title  \\\n",
       "0           2024               MI              FT                 Developer   \n",
       "1           2024               MI              FT                 Developer   \n",
       "2           2024               EN              FT                 Developer   \n",
       "3           2024               EN              FT                 Developer   \n",
       "4           2024               EN              FT                 Developer   \n",
       "...          ...              ...             ...                       ...   \n",
       "57189       2020               SE              FT            Data Scientist   \n",
       "57190       2021               MI              FT  Principal Data Scientist   \n",
       "57191       2020               EN              FT            Data Scientist   \n",
       "57192       2020               EN              CT     Business Data Analyst   \n",
       "57193       2021               SE              FT            Data Scientist   \n",
       "\n",
       "        salary salary_currency  salary_in_usd employee_residence  \\\n",
       "0       168276             USD         168276                 US   \n",
       "1       112184             USD         112184                 US   \n",
       "2       180000             USD         180000                 US   \n",
       "3       133500             USD         133500                 US   \n",
       "4       122000             USD         122000                 US   \n",
       "...        ...             ...            ...                ...   \n",
       "57189   412000             USD         412000                 US   \n",
       "57190   151000             USD         151000                 US   \n",
       "57191   105000             USD         105000                 US   \n",
       "57192   100000             USD         100000                 US   \n",
       "57193  7000000             INR          94665                 IN   \n",
       "\n",
       "       remote_ratio company_location company_size  \n",
       "0                 0               US            M  \n",
       "1                 0               US            M  \n",
       "2                 0               US            M  \n",
       "3                 0               US            M  \n",
       "4                 0               US            M  \n",
       "...             ...              ...          ...  \n",
       "57189           100               US            L  \n",
       "57190           100               US            L  \n",
       "57191           100               US            S  \n",
       "57192           100               US            L  \n",
       "57193            50               IN            L  \n",
       "\n",
       "[57194 rows x 11 columns]"
      ]
     },
     "execution_count": 3,
     "metadata": {},
     "output_type": "execute_result"
    }
   ],
   "source": [
    "import pandas as pd\n",
    "salaries_df = pd.read_csv('salaries.csv')\n",
    "salaries_df"
   ]
  },
  {
   "cell_type": "markdown",
   "id": "b1568487-86ac-4397-a740-75ac932bb2d0",
   "metadata": {},
   "source": [
    "<hr/>\n",
    "<h2>Dataset Overview: Total Records and Year Range</h2>"
   ]
  },
  {
   "cell_type": "code",
   "execution_count": 5,
   "id": "4953d89d-80fa-4cd6-91a4-887227f0ed82",
   "metadata": {
    "chartConfig": {
     "bar": {
      "hasRoundedCorners": true,
      "stacked": true
     },
     "type": "line",
     "version": "v1",
     "x": {
      "aggregate": null,
      "field": "work_year",
      "type": "string"
     },
     "y": {
      "aggregate": null,
      "field": "num_records",
      "type": "integer"
     }
    },
    "collapsed": false,
    "executionCancelledAt": null,
    "executionTime": 50,
    "jupyter": {
     "outputs_hidden": false,
     "source_hidden": false
    },
    "lastExecutedAt": 1742913904056,
    "lastExecutedByKernel": "e19978f9-d25e-4925-a6a4-a130878c5078",
    "lastScheduledRunId": null,
    "lastSuccessfullyExecutedCode": "# Group by work years\nannual_record = salaries_df.groupby('work_year').agg(num_records = ('work_year', 'count'))\n# Number of years\nyear_count = annual_record.shape[0]\nyears = annual_record.index[:]\n\n# Add total record at the last row\nannual_record.loc['Total'] = annual_record.sum()\ntotal_record = annual_record.iloc[-1][-1]",
    "outputsMetadata": {
     "0": {
      "height": 59,
      "type": "stream"
     },
     "1": {
      "height": 550,
      "tableState": {
       "customFilter": {
        "const": {
         "type": "boolean",
         "valid": true,
         "value": true
        },
        "id": "e5e7f6ee-bb8a-4555-89b8-852ce06ee810",
        "nodeType": "const"
       },
       "quickFilterText": ""
      },
      "type": "dataFrame"
     }
    },
    "visualizeDataframe": false
   },
   "outputs": [],
   "source": [
    "# Group by work years\n",
    "annual_record = salaries_df.groupby('work_year').agg(num_records = ('work_year', 'count'))\n",
    "# Number of years\n",
    "year_count = annual_record.shape[0]\n",
    "years = annual_record.index[:]\n",
    "\n",
    "# Add total record at the last row\n",
    "total_record = annual_record.sum()\n",
    "annual_record.loc['Total'] = total_record"
   ]
  },
  {
   "cell_type": "code",
   "execution_count": 6,
   "id": "db39fe35-afa2-4035-98e6-5043fbaff005",
   "metadata": {
    "collapsed": false,
    "executionCancelledAt": null,
    "executionTime": 348,
    "jupyter": {
     "outputs_hidden": false,
     "source_hidden": false
    },
    "lastExecutedAt": 1742913904404,
    "lastExecutedByKernel": "e19978f9-d25e-4925-a6a4-a130878c5078",
    "lastScheduledRunId": null,
    "lastSuccessfullyExecutedCode": "import matplotlib.pyplot as plt\n\n# Exclude the 'Total' row from the plot\nannual_record_excl_total = annual_record.drop('Total')\n\n# Set figure size\nplt.figure(figsize=(8, 4))\n\n# Plot the number of records per year\nplt.plot(annual_record_excl_total, marker='o', linestyle='-', color='royalblue')\n\n# Add title and labels\nplt.title('Number of Records per Year', fontsize=16)\nplt.xlabel('Years', fontsize=14)\nplt.ylabel('Number of Records', fontsize=14)\n\n# Set y-axis to logarithmic scale\nplt.yscale('log')\n\n# Customize x and y ticks\nplt.xticks([2020, 2021, 2022, 2023, 2024])\nplt.yticks([50, 500, 5000, 50000], ['50', '500', '5k', '50k'])\n\n# Add grid with custom style\nplt.grid(True, linestyle='--', alpha=0.6)\n\n# Display the plot\nplt.show()",
    "outputsMetadata": {
     "1": {
      "height": 59,
      "type": "stream"
     },
     "2": {
      "height": 59,
      "type": "stream"
     },
     "3": {
      "height": 80,
      "type": "stream"
     }
    }
   },
   "outputs": [
    {
     "data": {
      "image/png": "[encoded data removed]",
      "text/plain": [
       "<Figure size 800x400 with 1 Axes>"
      ]
     },
     "metadata": {},
     "output_type": "display_data"
    }
   ],
   "source": [
    "import matplotlib.pyplot as plt\n",
    "\n",
    "# Exclude the 'Total' row from the plot\n",
    "annual_record_excl_total = annual_record.drop('Total')\n",
    "\n",
    "# Set figure size\n",
    "plt.figure(figsize=(8, 4))\n",
    "\n",
    "# Plot the number of records per year\n",
    "plt.plot(annual_record_excl_total, marker='o', linestyle='-', color='royalblue')\n",
    "\n",
    "# Add title and labels\n",
    "plt.title('Number of Records per Year', fontsize=16)\n",
    "plt.xlabel('Years', fontsize=14)\n",
    "plt.ylabel('Number of Records', fontsize=14)\n",
    "\n",
    "# Set y-axis to logarithmic scale\n",
    "plt.yscale('log')\n",
    "\n",
    "# Customize x and y ticks\n",
    "plt.xticks([2020, 2021, 2022, 2023, 2024])\n",
    "plt.yticks([50, 500, 5000, 50000], ['50', '500', '5k', '50k'])\n",
    "\n",
    "# Add grid with custom style\n",
    "plt.grid(True, linestyle='--', alpha=0.6)\n",
    "\n",
    "# Display the plot\n",
    "plt.show()"
   ]
  },
  {
   "cell_type": "code",
   "execution_count": 7,
   "id": "1869d283-adcc-40e9-aaec-c0375fb6cf52",
   "metadata": {
    "chartConfig": {
     "bar": {
      "hasRoundedCorners": true,
      "stacked": false
     },
     "type": "line",
     "version": "v1",
     "x": {
      "field": "work_year",
      "type": "string"
     },
     "y": {
      "aggregate": null,
      "field": "num_records",
      "type": "integer"
     }
    },
    "collapsed": false,
    "executionCancelledAt": null,
    "executionTime": 51,
    "jupyter": {
     "outputs_hidden": false,
     "source_hidden": false
    },
    "lastExecutedAt": 1742913904456,
    "lastExecutedByKernel": "e19978f9-d25e-4925-a6a4-a130878c5078",
    "lastScheduledRunId": null,
    "lastSuccessfullyExecutedCode": "# Display answer\nprint(f'There are {total_record:,} records in the dataset, and it covered {year_count} years: {\", \".join(map(str, years))}')\n\n# Display table\nannual_record",
    "outputsMetadata": {
     "0": {
      "height": 59,
      "type": "stream"
     },
     "1": {
      "height": 550,
      "tableState": {
       "customFilter": {
        "const": {
         "type": "boolean",
         "valid": true,
         "value": true
        },
        "id": "4d25a6bb-8f6b-4256-9b29-730a1ff5c7b7",
        "nodeType": "const"
       },
       "quickFilterText": ""
      },
      "type": "dataFrame"
     }
    },
    "visualizeDataframe": false
   },
   "outputs": [
    {
     "name": "stdout",
     "output_type": "stream",
     "text": [
      "There are 57,194 records in the dataset, and it covered 5 years: 2020, 2021, 2022, 2023, 2024\n"
     ]
    },
    {
     "data": {
      "text/html": [
       "<div>\n",
       "<style scoped>\n",
       "    .dataframe tbody tr th:only-of-type {\n",
       "        vertical-align: middle;\n",
       "    }\n",
       "\n",
       "    .dataframe tbody tr th {\n",
       "        vertical-align: top;\n",
       "    }\n",
       "\n",
       "    .dataframe thead th {\n",
       "        text-align: right;\n",
       "    }\n",
       "</style>\n",
       "<table border=\"1\" class=\"dataframe\">\n",
       "  <thead>\n",
       "    <tr style=\"text-align: right;\">\n",
       "      <th></th>\n",
       "      <th>num_records</th>\n",
       "    </tr>\n",
       "    <tr>\n",
       "      <th>work_year</th>\n",
       "      <th></th>\n",
       "    </tr>\n",
       "  </thead>\n",
       "  <tbody>\n",
       "    <tr>\n",
       "      <th>2020</th>\n",
       "      <td>75</td>\n",
       "    </tr>\n",
       "    <tr>\n",
       "      <th>2021</th>\n",
       "      <td>218</td>\n",
       "    </tr>\n",
       "    <tr>\n",
       "      <th>2022</th>\n",
       "      <td>1659</td>\n",
       "    </tr>\n",
       "    <tr>\n",
       "      <th>2023</th>\n",
       "      <td>8522</td>\n",
       "    </tr>\n",
       "    <tr>\n",
       "      <th>2024</th>\n",
       "      <td>46720</td>\n",
       "    </tr>\n",
       "    <tr>\n",
       "      <th>Total</th>\n",
       "      <td>57194</td>\n",
       "    </tr>\n",
       "  </tbody>\n",
       "</table>\n",
       "</div>"
      ],
      "text/plain": [
       "           num_records\n",
       "work_year             \n",
       "2020                75\n",
       "2021               218\n",
       "2022              1659\n",
       "2023              8522\n",
       "2024             46720\n",
       "Total            57194"
      ]
     },
     "execution_count": 7,
     "metadata": {},
     "output_type": "execute_result"
    }
   ],
   "source": [
    "# Display answer\n",
    "print(f'There are {total_record.values[0]:,} records in the dataset, and it covered {year_count} years: {\", \".join(map(str, years))}')\n",
    "\n",
    "# Display table\n",
    "annual_record"
   ]
  },
  {
   "cell_type": "markdown",
   "id": "934e58a0-ca8d-4e02-a810-cce8bff39540",
   "metadata": {},
   "source": [
    "<hr/>\n",
    "<h2>Average Salary (USD) Comparison: Data Scientists vs. Data Engineers</h2>"
   ]
  },
  {
   "cell_type": "code",
   "execution_count": 9,
   "id": "53f824ac-35f2-4f96-9a06-eeffb182add6",
   "metadata": {
    "chartConfig": {
     "bar": {
      "hasRoundedCorners": true,
      "stacked": false
     },
     "type": "line",
     "version": "v1",
     "x": {
      "field": "work_year",
      "type": "integer"
     },
     "y": {
      "field": "avg_salary",
      "type": "number"
     }
    },
    "collapsed": false,
    "executionCancelledAt": null,
    "executionTime": 52,
    "jupyter": {
     "outputs_hidden": false,
     "source_hidden": false
    },
    "lastExecutedAt": 1742913904508,
    "lastExecutedByKernel": "e19978f9-d25e-4925-a6a4-a130878c5078",
    "lastScheduledRunId": null,
    "lastSuccessfullyExecutedCode": "# Average salary for Data Scientists\nds_salary = salaries_df[salaries_df['job_title'] == 'Data Scientist']\navg_ds_salary = ds_salary['salary'].mean()\n\n# Average salary for Data Engineers\nde_salary = salaries_df[salaries_df['job_title'] == 'Data Engineer']\navg_de_salary = de_salary['salary'].mean()\n\n# --Average salary per year\n# Calculate the median salary for Data Scientists per year\navg_ds_salary_per_year = ds_salary.groupby('work_year').agg(avg_de_salary = ('salary', 'median'))\n\n# Calculate the median salary for Data Engineers per year\navg_de_salary_per_year = de_salary.groupby('work_year').agg(avg_de_salary = ('salary', 'median'))",
    "outputsMetadata": {
     "0": {
      "height": 81,
      "tableState": {
       "customFilter": {
        "const": {
         "type": "boolean",
         "valid": true,
         "value": true
        },
        "id": "e5e7f6ee-bb8a-4555-89b8-852ce06ee810",
        "nodeType": "const"
       },
       "quickFilterText": "",
       "sort": {
        "sortModel": [
         {
          "colId": "salary",
          "sort": "desc"
         }
        ]
       }
      },
      "type": "dataFrame"
     }
    },
    "visualizeDataframe": true
   },
   "outputs": [],
   "source": [
    "# Average salary for Data Scientists\n",
    "ds_salary = salaries_df[salaries_df['job_title'] == 'Data Scientist']\n",
    "avg_ds_salary = ds_salary['salary'].mean()\n",
    "\n",
    "# Average salary for Data Engineers\n",
    "de_salary = salaries_df[salaries_df['job_title'] == 'Data Engineer']\n",
    "avg_de_salary = de_salary['salary'].mean()\n",
    "\n",
    "# --Average salary per year\n",
    "# Calculate the median salary for Data Scientists per year\n",
    "avg_ds_salary_per_year = ds_salary.groupby('work_year').agg(avg_de_salary = ('salary', 'median'))\n",
    "\n",
    "# Calculate the median salary for Data Engineers per year\n",
    "avg_de_salary_per_year = de_salary.groupby('work_year').agg(avg_de_salary = ('salary', 'median'))"
   ]
  },
  {
   "cell_type": "code",
   "execution_count": 10,
   "id": "371e9ed0-3a8e-4f83-b728-475dc0d516c4",
   "metadata": {
    "collapsed": false,
    "executionCancelledAt": null,
    "executionTime": 48,
    "jupyter": {
     "outputs_hidden": false,
     "source_hidden": false
    },
    "lastExecutedAt": 1742913904556,
    "lastExecutedByKernel": "e19978f9-d25e-4925-a6a4-a130878c5078",
    "lastScheduledRunId": null,
    "lastSuccessfullyExecutedCode": "# Role that earns more\nprint(f'Average salary of Data Scientists: {round(avg_ds_salary, 2)} USD')\nprint(f'Average salary of Data Engineers: {round(avg_de_salary, 2)} USD')\n\nrole = \"Data Scientists\" if avg_ds_salary > avg_de_salary else \"Data Engineers\"\nprint(f'\\n{role} earns more salary.')",
    "outputsMetadata": {
     "0": {
      "height": 101,
      "type": "stream"
     }
    }
   },
   "outputs": [
    {
     "name": "stdout",
     "output_type": "stream",
     "text": [
      "Average salary of Data Scientists: 170120.14 USD\n",
      "Average salary of Data Engineers: 150544.93 USD\n",
      "\n",
      "Data Scientists earns more salary.\n"
     ]
    }
   ],
   "source": [
    "# Role that earns more\n",
    "print(f'Average salary of Data Scientists: {round(avg_ds_salary, 2)} USD')\n",
    "print(f'Average salary of Data Engineers: {round(avg_de_salary, 2)} USD')\n",
    "\n",
    "role = \"Data Scientists\" if avg_ds_salary > avg_de_salary else \"Data Engineers\"\n",
    "print(f'\\n{role} earns more salary.')"
   ]
  },
  {
   "cell_type": "code",
   "execution_count": 11,
   "id": "c781fcb7-0835-4795-8f88-310e263ae62c",
   "metadata": {
    "executionCancelledAt": null,
    "executionTime": 254,
    "lastExecutedAt": 1742913904810,
    "lastExecutedByKernel": "e19978f9-d25e-4925-a6a4-a130878c5078",
    "lastScheduledRunId": null,
    "lastSuccessfullyExecutedCode": "# Visualize the average salary of Data Engineers and Data Scientists\n# Set figure size\nplt.figure(figsize=(10, 5))\n\n# Plot for Data Engineers\nplt.plot(avg_de_salary_per_year, label='Data Engineers', marker='o', linestyle='-', color='royalblue')\n\n# Plot for Data Scientists\nplt.plot(avg_ds_salary_per_year, label='Data Scientists', marker='s', linestyle='--', color='seagreen')\n\n# Title and labels\nplt.title('Average Salary by Year', fontsize=16)\nplt.xlabel('Years', fontsize=14)\nplt.ylabel('Salary (USD)', fontsize=14)\n\n# Customizing ticks\nplt.xticks([2020, 2021, 2022, 2023, 2024])\nplt.yticks([75000, 100000, 125000, 150000], ['75k', '100k', '125k', '150k'])\n\n# Adding grid\nplt.grid(True, linestyle='--', alpha=0.6)\n\n# Adding legend\nplt.legend(fontsize=10)\n\n# Show plot\nplt.show()"
   },
   "outputs": [
    {
     "data": {
      "image/png": "[encoded data removed]",
      "text/plain": [
       "<Figure size 1000x500 with 1 Axes>"
      ]
     },
     "metadata": {},
     "output_type": "display_data"
    }
   ],
   "source": [
    "# Visualize the average salary of Data Engineers and Data Scientists\n",
    "# Set figure size\n",
    "plt.figure(figsize=(10, 5))\n",
    "\n",
    "# Plot for Data Engineers\n",
    "plt.plot(avg_de_salary_per_year, label='Data Engineers', marker='o', linestyle='-', color='royalblue')\n",
    "\n",
    "# Plot for Data Scientists\n",
    "plt.plot(avg_ds_salary_per_year, label='Data Scientists', marker='s', linestyle='--', color='seagreen')\n",
    "\n",
    "# Title and labels\n",
    "plt.title('Average Salary by Year', fontsize=16)\n",
    "plt.xlabel('Years', fontsize=14)\n",
    "plt.ylabel('Salary (USD)', fontsize=14)\n",
    "\n",
    "# Customizing ticks\n",
    "plt.xticks([2020, 2021, 2022, 2023, 2024])\n",
    "plt.yticks([75000, 100000, 125000, 150000], ['75k', '100k', '125k', '150k'])\n",
    "\n",
    "# Adding grid\n",
    "plt.grid(True, linestyle='--', alpha=0.6)\n",
    "\n",
    "# Adding legend\n",
    "plt.legend(fontsize=10)\n",
    "\n",
    "# Show plot\n",
    "plt.show()"
   ]
  },
  {
   "cell_type": "code",
   "execution_count": 12,
   "id": "26d11978-c6b7-4244-98b8-377f4e6ec5d7",
   "metadata": {
    "chartConfig": {
     "bar": {
      "hasRoundedCorners": true,
      "stacked": false
     },
     "title": "Average Data Engineers Salary by Year",
     "type": "line",
     "version": "v1",
     "x": {
      "field": "work_year",
      "type": "integer"
     },
     "y": {
      "aggregate": null,
      "field": "avg_de_salary",
      "type": "number"
     }
    },
    "collapsed": false,
    "executionCancelledAt": null,
    "executionTime": 58,
    "jupyter": {
     "outputs_hidden": false,
     "source_hidden": false
    },
    "lastExecutedAt": 1742913904868,
    "lastExecutedByKernel": "e19978f9-d25e-4925-a6a4-a130878c5078",
    "lastScheduledRunId": null,
    "lastSuccessfullyExecutedCode": "avg_de_salary_per_year",
    "outputsMetadata": {
     "0": {
      "height": 550,
      "tableState": {
       "customFilter": {
        "const": {
         "type": "boolean",
         "valid": true,
         "value": true
        },
        "id": "5a283f65-a6f7-4a3b-8f61-577d3a05c887",
        "nodeType": "const"
       },
       "quickFilterText": ""
      },
      "type": "dataFrame"
     }
    },
    "visualizeDataframe": false
   },
   "outputs": [
    {
     "data": {
      "text/html": [
       "<div>\n",
       "<style scoped>\n",
       "    .dataframe tbody tr th:only-of-type {\n",
       "        vertical-align: middle;\n",
       "    }\n",
       "\n",
       "    .dataframe tbody tr th {\n",
       "        vertical-align: top;\n",
       "    }\n",
       "\n",
       "    .dataframe thead th {\n",
       "        text-align: right;\n",
       "    }\n",
       "</style>\n",
       "<table border=\"1\" class=\"dataframe\">\n",
       "  <thead>\n",
       "    <tr style=\"text-align: right;\">\n",
       "      <th></th>\n",
       "      <th>avg_de_salary</th>\n",
       "    </tr>\n",
       "    <tr>\n",
       "      <th>work_year</th>\n",
       "      <th></th>\n",
       "    </tr>\n",
       "  </thead>\n",
       "  <tbody>\n",
       "    <tr>\n",
       "      <th>2020</th>\n",
       "      <td>88000.0</td>\n",
       "    </tr>\n",
       "    <tr>\n",
       "      <th>2021</th>\n",
       "      <td>100000.0</td>\n",
       "    </tr>\n",
       "    <tr>\n",
       "      <th>2022</th>\n",
       "      <td>135000.0</td>\n",
       "    </tr>\n",
       "    <tr>\n",
       "      <th>2023</th>\n",
       "      <td>142200.0</td>\n",
       "    </tr>\n",
       "    <tr>\n",
       "      <th>2024</th>\n",
       "      <td>140900.0</td>\n",
       "    </tr>\n",
       "  </tbody>\n",
       "</table>\n",
       "</div>"
      ],
      "text/plain": [
       "           avg_de_salary\n",
       "work_year               \n",
       "2020             88000.0\n",
       "2021            100000.0\n",
       "2022            135000.0\n",
       "2023            142200.0\n",
       "2024            140900.0"
      ]
     },
     "execution_count": 12,
     "metadata": {},
     "output_type": "execute_result"
    }
   ],
   "source": [
    "avg_de_salary_per_year"
   ]
  },
  {
   "cell_type": "markdown",
   "id": "499632ae-c94d-4146-8ba1-e35719078fd1",
   "metadata": {},
   "source": [
    "<hr/>\n",
    "<h2>US-based Full-time Employees Who Work 100% Remotely</h2>"
   ]
  },
  {
   "cell_type": "code",
   "execution_count": 14,
   "id": "96d9440a-673f-44d9-aa37-dedd2f672699",
   "metadata": {
    "executionCancelledAt": null,
    "executionTime": 56,
    "lastExecutedAt": 1742913904924,
    "lastExecutedByKernel": "e19978f9-d25e-4925-a6a4-a130878c5078",
    "lastScheduledRunId": null,
    "lastSuccessfullyExecutedCode": "# Filter the DataFrame for full-time employees based in the US who work 100% remotely\nft_us_remote = salaries_df[(salaries_df['employment_type'] == 'FT') &  # if full-time employee\n                         (salaries_df['company_location'] == 'US') &            # if US-based\n                         (salaries_df['remote_ratio'] == 100)]                  # if 100% remote\n\n# Count the number of such employees\nnum_ft_us_remote = ft_us_remote.shape[0]",
    "outputsMetadata": {
     "0": {
      "height": 38,
      "type": "stream"
     }
    }
   },
   "outputs": [],
   "source": [
    "# Filter the DataFrame for full-time employees based in the US who work 100% remotely\n",
    "ft_us_remote = salaries_df[(salaries_df['employment_type'] == 'FT') &  # if full-time employee\n",
    "                         (salaries_df['company_location'] == 'US') &   # if US-based\n",
    "                         (salaries_df['remote_ratio'] == 100)]         # if 100% remote\n",
    "\n",
    "# Count the number of such employees\n",
    "num_ft_us_remote = ft_us_remote.shape[0]"
   ]
  },
  {
   "cell_type": "code",
   "execution_count": 32,
   "id": "750e8a76-7919-40d0-ba1a-193c54164457",
   "metadata": {
    "executionCancelledAt": null,
    "executionTime": 329,
    "lastExecutedAt": 1742913905253,
    "lastExecutedByKernel": "e19978f9-d25e-4925-a6a4-a130878c5078",
    "lastScheduledRunId": null,
    "lastSuccessfullyExecutedCode": "# Count the number of employees in each job title, then get the top 10\nnum_per_jobtitle = ft_us_remote['job_title'].value_counts().head(10)\n\n# Visualize the top 10 job titles with US-based full-time employees that works 100% remotely\n# Set figure size\nplt.figure(figsize=(10, 5))\n\n# Plot the number of employees by job role with the use of bar graph\nplt.bar(num_per_jobtitle.index, num_per_jobtitle.values, color='royalblue')\n\n# Title and labels\nplt.title('Top 10 Job Roles of Full-time US Employees Working 100% Remotely', fontsize=16)\nplt.xlabel('Job Roles', fontsize=14)\nplt.ylabel('Number of Employees', fontsize=14)\n\n# Rotate x-axis labels\nplt.xticks(rotation=45, ha='right')\n\n# Adding grid\nplt.grid(axis='y', linestyle='--', alpha=0.6)\n\n# Show plot\nplt.show()\n\n# Display the answer\nprint(f\"Total count of full-time employees in the US working entirely remotely: {num_ft_us_remote:,} employees\")\n\n# Show DataFrame\nprint(\"\\nHere are the top 10 job roles of full-time US employees working 100% remotely.\")\nnum_per_jobtitle\n",
    "outputsMetadata": {
     "1": {
      "height": 122,
      "type": "stream"
     },
     "2": {
      "height": 50,
      "tableState": {
       "customFilter": {
        "const": {
         "type": "boolean",
         "valid": true,
         "value": true
        },
        "id": "c78632a7-b684-41c9-9e54-5db045c7c03b",
        "nodeType": "const"
       },
       "quickFilterText": ""
      },
      "type": "dataFrame"
     }
    }
   },
   "outputs": [
    {
     "data": {
      "image/png": "[encoded data removed]",
      "text/plain": [
       "<Figure size 1000x500 with 1 Axes>"
      ]
     },
     "metadata": {},
     "output_type": "display_data"
    },
    {
     "name": "stdout",
     "output_type": "stream",
     "text": [
      "Total count of full-time employees in the US working entirely remotely: 11,160 employees\n",
      "\n",
      "Here are the top 10 job roles of full-time US employees working 100% remotely.\n"
     ]
    },
    {
     "data": {
      "text/html": [
       "<div>\n",
       "<style scoped>\n",
       "    .dataframe tbody tr th:only-of-type {\n",
       "        vertical-align: middle;\n",
       "    }\n",
       "\n",
       "    .dataframe tbody tr th {\n",
       "        vertical-align: top;\n",
       "    }\n",
       "\n",
       "    .dataframe thead th {\n",
       "        text-align: right;\n",
       "    }\n",
       "</style>\n",
       "<table border=\"1\" class=\"dataframe\">\n",
       "  <thead>\n",
       "    <tr style=\"text-align: right;\">\n",
       "      <th></th>\n",
       "      <th>job_title</th>\n",
       "      <th>num_of_employees</th>\n",
       "    </tr>\n",
       "  </thead>\n",
       "  <tbody>\n",
       "    <tr>\n",
       "      <th>0</th>\n",
       "      <td>Data Scientist</td>\n",
       "      <td>2171</td>\n",
       "    </tr>\n",
       "    <tr>\n",
       "      <th>1</th>\n",
       "      <td>Data Engineer</td>\n",
       "      <td>1848</td>\n",
       "    </tr>\n",
       "    <tr>\n",
       "      <th>2</th>\n",
       "      <td>Data Analyst</td>\n",
       "      <td>1481</td>\n",
       "    </tr>\n",
       "    <tr>\n",
       "      <th>3</th>\n",
       "      <td>Machine Learning Engineer</td>\n",
       "      <td>807</td>\n",
       "    </tr>\n",
       "    <tr>\n",
       "      <th>4</th>\n",
       "      <td>Software Engineer</td>\n",
       "      <td>718</td>\n",
       "    </tr>\n",
       "    <tr>\n",
       "      <th>5</th>\n",
       "      <td>Applied Scientist</td>\n",
       "      <td>383</td>\n",
       "    </tr>\n",
       "    <tr>\n",
       "      <th>6</th>\n",
       "      <td>Analytics Engineer</td>\n",
       "      <td>307</td>\n",
       "    </tr>\n",
       "    <tr>\n",
       "      <th>7</th>\n",
       "      <td>Engineer</td>\n",
       "      <td>274</td>\n",
       "    </tr>\n",
       "    <tr>\n",
       "      <th>8</th>\n",
       "      <td>Data Architect</td>\n",
       "      <td>265</td>\n",
       "    </tr>\n",
       "    <tr>\n",
       "      <th>9</th>\n",
       "      <td>Machine Learning Researcher</td>\n",
       "      <td>228</td>\n",
       "    </tr>\n",
       "  </tbody>\n",
       "</table>\n",
       "</div>"
      ],
      "text/plain": [
       "                     job_title  num_of_employees\n",
       "0               Data Scientist              2171\n",
       "1                Data Engineer              1848\n",
       "2                 Data Analyst              1481\n",
       "3    Machine Learning Engineer               807\n",
       "4            Software Engineer               718\n",
       "5            Applied Scientist               383\n",
       "6           Analytics Engineer               307\n",
       "7                     Engineer               274\n",
       "8               Data Architect               265\n",
       "9  Machine Learning Researcher               228"
      ]
     },
     "execution_count": 32,
     "metadata": {},
     "output_type": "execute_result"
    }
   ],
   "source": [
    "# Count the number of employees in each job title, then get the top 10\n",
    "num_per_jobtitle = ft_us_remote['job_title'].value_counts().head(10)\n",
    "\n",
    "# Visualize the top 10 job titles with US-based full-time employees that works 100% remotely\n",
    "# Set figure size\n",
    "plt.figure(figsize=(10, 5))\n",
    "\n",
    "# Plot the number of employees by job role with the use of bar graph\n",
    "plt.bar(num_per_jobtitle.index, num_per_jobtitle.values, color='royalblue')\n",
    "\n",
    "# Title and labels\n",
    "plt.title('Top 10 Job Roles of Full-time US Employees Working 100% Remotely', fontsize=16)\n",
    "plt.xlabel('Job Roles', fontsize=14)\n",
    "plt.ylabel('Number of Employees', fontsize=14)\n",
    "\n",
    "# Rotate x-axis labels\n",
    "plt.xticks(rotation=45, ha='right')\n",
    "\n",
    "# Adding grid\n",
    "plt.grid(axis='y', linestyle='--', alpha=0.6)\n",
    "\n",
    "# Show plot\n",
    "plt.show()\n",
    "\n",
    "# Display the answer\n",
    "print(f\"Total count of full-time employees in the US working entirely remotely: {num_ft_us_remote:,} employees\")\n",
    "\n",
    "# Show DataFrame\n",
    "print(\"\\nHere are the top 10 job roles of full-time US employees working 100% remotely.\")\n",
    "num_per_jobtitle.reset_index().rename(columns={'count': 'num_of_employees'})\n"
   ]
  }
 ],
 "metadata": {
  "editor": "DataLab",
  "kernelspec": {
   "display_name": "Python [conda env:base] *",
   "language": "python",
   "name": "conda-base-py"
  },
  "language_info": {
   "codemirror_mode": {
    "name": "ipython",
    "version": 3
   },
   "file_extension": ".py",
   "mimetype": "text/x-python",
   "name": "python",
   "nbconvert_exporter": "python",
   "pygments_lexer": "ipython3",
   "version": "3.12.7"
  }
 },
 "nbformat": 4,
 "nbformat_minor": 5
}
