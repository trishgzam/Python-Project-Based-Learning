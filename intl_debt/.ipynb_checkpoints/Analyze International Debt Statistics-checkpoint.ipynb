{
 "cells": [
  {
   "cell_type": "markdown",
   "id": "ea890aa0-576d-4e1e-a9ee-c5f6af6f98d4",
   "metadata": {},
   "source": [
    "<h1>Project: Analyze International Debt Statistics</h1>"
   ]
  },
  {
   "cell_type": "markdown",
   "id": "a1160259-de28-4334-b447-c0fad86d3189",
   "metadata": {},
   "source": [
    "<p>This project aimed to analyse international debt dataset using Python.\n",
    "\n",
    "The project will focus on answering the following questions:\n",
    "\n",
    "- What is the number of distinct countries present in the database?\n",
    "- What are the top 10 countries with the highest amount of debt?\n",
    "- What are the top 10 countries with the lowest amount of repayments?\n",
    "</p>\n",
    "\n",
    "<br/>\n",
    "<p>Firstly, prepare the dataset that will use for the analysis.</p>"
   ]
  },
  {
   "cell_type": "code",
   "execution_count": 1,
   "id": "338d208c-a937-446b-9adf-22c2a294c546",
   "metadata": {
    "panel-layout": {
     "height": 170.6666717529297,
     "visible": true,
     "width": 100
    }
   },
   "outputs": [
    {
     "data": {
      "text/html": [
       "<div>\n",
       "<style scoped>\n",
       "    .dataframe tbody tr th:only-of-type {\n",
       "        vertical-align: middle;\n",
       "    }\n",
       "\n",
       "    .dataframe tbody tr th {\n",
       "        vertical-align: top;\n",
       "    }\n",
       "\n",
       "    .dataframe thead th {\n",
       "        text-align: right;\n",
       "    }\n",
       "</style>\n",
       "<table border=\"1\" class=\"dataframe\">\n",
       "  <thead>\n",
       "    <tr style=\"text-align: right;\">\n",
       "      <th></th>\n",
       "      <th>country_name</th>\n",
       "      <th>country_code</th>\n",
       "      <th>indicator_name</th>\n",
       "      <th>indicator_code</th>\n",
       "      <th>debt</th>\n",
       "    </tr>\n",
       "  </thead>\n",
       "  <tbody>\n",
       "    <tr>\n",
       "      <th>0</th>\n",
       "      <td>Afghanistan</td>\n",
       "      <td>AFG</td>\n",
       "      <td>Disbursements on external debt, long-term (DIS...</td>\n",
       "      <td>DT.DIS.DLXF.CD</td>\n",
       "      <td>72894453.7</td>\n",
       "    </tr>\n",
       "    <tr>\n",
       "      <th>1</th>\n",
       "      <td>Afghanistan</td>\n",
       "      <td>AFG</td>\n",
       "      <td>Interest payments on external debt, long-term ...</td>\n",
       "      <td>DT.INT.DLXF.CD</td>\n",
       "      <td>53239440.1</td>\n",
       "    </tr>\n",
       "    <tr>\n",
       "      <th>2</th>\n",
       "      <td>Afghanistan</td>\n",
       "      <td>AFG</td>\n",
       "      <td>PPG, bilateral (AMT, current US$)</td>\n",
       "      <td>DT.AMT.BLAT.CD</td>\n",
       "      <td>61739336.9</td>\n",
       "    </tr>\n",
       "    <tr>\n",
       "      <th>3</th>\n",
       "      <td>Afghanistan</td>\n",
       "      <td>AFG</td>\n",
       "      <td>PPG, bilateral (DIS, current US$)</td>\n",
       "      <td>DT.DIS.BLAT.CD</td>\n",
       "      <td>49114729.4</td>\n",
       "    </tr>\n",
       "    <tr>\n",
       "      <th>4</th>\n",
       "      <td>Afghanistan</td>\n",
       "      <td>AFG</td>\n",
       "      <td>PPG, bilateral (INT, current US$)</td>\n",
       "      <td>DT.INT.BLAT.CD</td>\n",
       "      <td>39903620.1</td>\n",
       "    </tr>\n",
       "  </tbody>\n",
       "</table>\n",
       "</div>"
      ],
      "text/plain": [
       "  country_name country_code  \\\n",
       "0  Afghanistan          AFG   \n",
       "1  Afghanistan          AFG   \n",
       "2  Afghanistan          AFG   \n",
       "3  Afghanistan          AFG   \n",
       "4  Afghanistan          AFG   \n",
       "\n",
       "                                      indicator_name  indicator_code  \\\n",
       "0  Disbursements on external debt, long-term (DIS...  DT.DIS.DLXF.CD   \n",
       "1  Interest payments on external debt, long-term ...  DT.INT.DLXF.CD   \n",
       "2                  PPG, bilateral (AMT, current US$)  DT.AMT.BLAT.CD   \n",
       "3                  PPG, bilateral (DIS, current US$)  DT.DIS.BLAT.CD   \n",
       "4                  PPG, bilateral (INT, current US$)  DT.INT.BLAT.CD   \n",
       "\n",
       "         debt  \n",
       "0  72894453.7  \n",
       "1  53239440.1  \n",
       "2  61739336.9  \n",
       "3  49114729.4  \n",
       "4  39903620.1  "
      ]
     },
     "execution_count": 1,
     "metadata": {},
     "output_type": "execute_result"
    }
   ],
   "source": [
    "import pandas as pd\n",
    "\n",
    "# Preview of the first 5 rows of dataset\n",
    "df = pd.read_csv('international_debt.csv')\n",
    "df.head(5)"
   ]
  },
  {
   "cell_type": "code",
   "execution_count": null,
   "id": "6179fe51-86ba-40bd-ade5-08d9d1bf3d85",
   "metadata": {},
   "outputs": [],
   "source": []
  },
  {
   "cell_type": "code",
   "execution_count": 2,
   "id": "1a72f72a-73ef-43c4-9644-e5b17ff9adea",
   "metadata": {},
   "outputs": [],
   "source": [
    "# Aggregate to get the total debt by country\n",
    "debt_by_country = df.groupby('country_name')['debt'].sum('sum')"
   ]
  },
  {
   "cell_type": "code",
   "execution_count": 3,
   "id": "3c1126bf-fbca-4898-82be-8f3828bd36a9",
   "metadata": {},
   "outputs": [],
   "source": [
    "# Get the top 10 countries with highest debt\n",
    "top_10_countries = debt_by_country.sort_values(ascending = False).head(10)"
   ]
  },
  {
   "cell_type": "code",
   "execution_count": 4,
   "id": "52806d45-c8b3-4256-8a86-f158f6fb629a",
   "metadata": {
    "panel-layout": {
     "height": 304,
     "visible": true,
     "width": 100
    }
   },
   "outputs": [
    {
     "data": {
      "text/html": [
       "<div>\n",
       "<style scoped>\n",
       "    .dataframe tbody tr th:only-of-type {\n",
       "        vertical-align: middle;\n",
       "    }\n",
       "\n",
       "    .dataframe tbody tr th {\n",
       "        vertical-align: top;\n",
       "    }\n",
       "\n",
       "    .dataframe thead th {\n",
       "        text-align: right;\n",
       "    }\n",
       "</style>\n",
       "<table border=\"1\" class=\"dataframe\">\n",
       "  <thead>\n",
       "    <tr style=\"text-align: right;\">\n",
       "      <th></th>\n",
       "      <th>country_name</th>\n",
       "      <th>total_debt</th>\n",
       "    </tr>\n",
       "  </thead>\n",
       "  <tbody>\n",
       "    <tr>\n",
       "      <th>0</th>\n",
       "      <td>China</td>\n",
       "      <td>285,793,494,734.90</td>\n",
       "    </tr>\n",
       "    <tr>\n",
       "      <th>1</th>\n",
       "      <td>Brazil</td>\n",
       "      <td>280,623,966,141.40</td>\n",
       "    </tr>\n",
       "    <tr>\n",
       "      <th>2</th>\n",
       "      <td>South Asia</td>\n",
       "      <td>247,608,723,991.20</td>\n",
       "    </tr>\n",
       "    <tr>\n",
       "      <th>3</th>\n",
       "      <td>Least developed countries: UN classification</td>\n",
       "      <td>212,880,992,793.20</td>\n",
       "    </tr>\n",
       "    <tr>\n",
       "      <th>4</th>\n",
       "      <td>Russian Federation</td>\n",
       "      <td>191,289,057,259.50</td>\n",
       "    </tr>\n",
       "    <tr>\n",
       "      <th>5</th>\n",
       "      <td>IDA only</td>\n",
       "      <td>179,048,127,208.50</td>\n",
       "    </tr>\n",
       "    <tr>\n",
       "      <th>6</th>\n",
       "      <td>Turkey</td>\n",
       "      <td>151,125,758,036.10</td>\n",
       "    </tr>\n",
       "    <tr>\n",
       "      <th>7</th>\n",
       "      <td>India</td>\n",
       "      <td>133,627,060,958.60</td>\n",
       "    </tr>\n",
       "    <tr>\n",
       "      <th>8</th>\n",
       "      <td>Mexico</td>\n",
       "      <td>124,596,786,218.00</td>\n",
       "    </tr>\n",
       "    <tr>\n",
       "      <th>9</th>\n",
       "      <td>Indonesia</td>\n",
       "      <td>113,435,696,695.20</td>\n",
       "    </tr>\n",
       "  </tbody>\n",
       "</table>\n",
       "</div>"
      ],
      "text/plain": [
       "                                   country_name         total_debt\n",
       "0                                         China 285,793,494,734.90\n",
       "1                                        Brazil 280,623,966,141.40\n",
       "2                                    South Asia 247,608,723,991.20\n",
       "3  Least developed countries: UN classification 212,880,992,793.20\n",
       "4                            Russian Federation 191,289,057,259.50\n",
       "5                                      IDA only 179,048,127,208.50\n",
       "6                                        Turkey 151,125,758,036.10\n",
       "7                                         India 133,627,060,958.60\n",
       "8                                        Mexico 124,596,786,218.00\n",
       "9                                     Indonesia 113,435,696,695.20"
      ]
     },
     "execution_count": 4,
     "metadata": {},
     "output_type": "execute_result"
    }
   ],
   "source": [
    "# Displat DataFrame\n",
    "top_10_countries_df = top_10_countries.reset_index()\n",
    "\n",
    "# Rename the column debt into \"total_debt\"\n",
    "top_10_countries_df.columns = ['country_name', 'total_debt']\n",
    "pd.options.display.float_format = '{:,.2f}'.format \n",
    "\n",
    "top_10_countries_df"
   ]
  },
  {
   "cell_type": "code",
   "execution_count": 5,
   "id": "70026294-b025-4ca3-a9d4-eb7d5bb2aacb",
   "metadata": {
    "panel-layout": {
     "height": 874,
     "visible": true,
     "width": 100
    }
   },
   "outputs": [
    {
     "data": {
      "image/png": "[encoded data removed]",
      "text/plain": [
       "<Figure size 1000x600 with 1 Axes>"
      ]
     },
     "metadata": {},
     "output_type": "display_data"
    }
   ],
   "source": [
    "# Make a plot\n",
    "import matplotlib.pyplot as plt\n",
    "\n",
    "# Text wrap lengthy names\n",
    "import textwrap\n",
    "def wrap_labels(labels, width = 15):\n",
    "    return ['\\n'.join(textwrap.wrap(label, width)) for label in labels]\n",
    "top_10_countries_df['country_name'] = wrap_labels(top_10_countries_df['country_name'])\n",
    "\n",
    "# x and y variables of the graph\n",
    "x = top_10_countries_df['country_name']\n",
    "y = top_10_countries_df['total_debt']\n",
    "\n",
    "plt.figure(figsize = (10, 6))\n",
    "plt.barh(x, y)\n",
    "plt.title('Top 10 Countries by Total Debt', fontsize = 14)\n",
    "plt.xlabel('Total Debt in Billions (USD)')\n",
    "plt.ylabel('Country')\n",
    "plt.show()"
   ]
  }
 ],
 "metadata": {
  "kernelspec": {
   "display_name": "Python [conda env:base] *",
   "language": "python",
   "name": "conda-base-py"
  },
  "language_info": {
   "codemirror_mode": {
    "name": "ipython",
    "version": 3
   },
   "file_extension": ".py",
   "mimetype": "text/x-python",
   "name": "python",
   "nbconvert_exporter": "python",
   "pygments_lexer": "ipython3",
   "version": "3.12.7"
  },
  "panel-cell-order": [
   "338d208c-a937-446b-9adf-22c2a294c546",
   "52806d45-c8b3-4256-8a86-f158f6fb629a",
   "70026294-b025-4ca3-a9d4-eb7d5bb2aacb"
  ]
 },
 "nbformat": 4,
 "nbformat_minor": 5
}
